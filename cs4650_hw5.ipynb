{
  "nbformat": 4,
  "nbformat_minor": 0,
  "metadata": {
    "colab": {
      "name": "cs4650_hw5.ipynb",
      "provenance": [],
      "authorship_tag": "ABX9TyMqiC3LC7h8ZqmwryHLC4Uu",
      "include_colab_link": true
    },
    "kernelspec": {
      "name": "python3",
      "display_name": "Python 3"
    }
  },
  "cells": [
    {
      "cell_type": "markdown",
      "metadata": {
        "id": "view-in-github",
        "colab_type": "text"
      },
      "source": [
        "<a href=\"https://colab.research.google.com/github/iomiranda/cs4650_hw5_newsapi/blob/main/cs4650_hw5.ipynb\" target=\"_parent\"><img src=\"https://colab.research.google.com/assets/colab-badge.svg\" alt=\"Open In Colab\"/></a>"
      ]
    },
    {
      "cell_type": "code",
      "metadata": {
        "id": "6bRqLswZ1Fm-"
      },
      "source": [
        "!pip install spacy\n",
        "!pip install newsapi-python"
      ],
      "execution_count": null,
      "outputs": []
    },
    {
      "cell_type": "code",
      "metadata": {
        "id": "4f-OYRsx1XEK"
      },
      "source": [
        "!python -m spacy download en_core_web_lg"
      ],
      "execution_count": null,
      "outputs": []
    },
    {
      "cell_type": "code",
      "metadata": {
        "id": "VUskOYZk2Ls0"
      },
      "source": [
        "import spacy\n",
        "nlp_eng = spacy.load('en_core_web_lg')"
      ],
      "execution_count": 202,
      "outputs": []
    },
    {
      "cell_type": "code",
      "metadata": {
        "id": "rzVaO3Gt4RhW"
      },
      "source": [
        "newsapi = NewsApiClient (api_key='0322f891c020429591abd1c92da469c7')"
      ],
      "execution_count": 203,
      "outputs": []
    },
    {
      "cell_type": "code",
      "metadata": {
        "id": "DuBq9d7X87fo"
      },
      "source": [
        "articles = newsapi.get_everything(q='coronavirus', language='en', from_param='2021-02-20', to='2020-03-17', sort_by='relevancy', page=1)"
      ],
      "execution_count": 204,
      "outputs": []
    },
    {
      "cell_type": "code",
      "metadata": {
        "id": "JIxD31rb-ggU"
      },
      "source": [
        "import pickle\n",
        "filename = 'articlesCOVID.pckl'\n",
        "pickle.dump(articles, open(filename, 'wb'))\n",
        "loaded_model = pickle.load(open(filename, 'rb'))\n"
      ],
      "execution_count": 205,
      "outputs": []
    },
    {
      "cell_type": "code",
      "metadata": {
        "id": "ISqLVvmlGYyD"
      },
      "source": [
        "filepath = '/content/articlesCOVID.pckl'\n",
        "pickle.dump(loaded_model, open(filepath, 'wb'))"
      ],
      "execution_count": 206,
      "outputs": []
    },
    {
      "cell_type": "code",
      "metadata": {
        "id": "Fn4YH_-NHmD0"
      },
      "source": [
        "dados = []\n",
        "for i, article in enumerate(articles):\n",
        "  for x in articles.get('articles'):\n",
        "    title = x['title']\n",
        "    description = x['description']\n",
        "    content = x['content']\n",
        "    date = x['publishedAt']\n",
        "    dados.append({'title':title, 'date':date, 'desc':description, 'content':content})"
      ],
      "execution_count": 207,
      "outputs": []
    },
    {
      "cell_type": "code",
      "metadata": {
        "id": "CTglFo3MMf22"
      },
      "source": [
        "import pandas as pd\n",
        "df = pd.DataFrame(dados)\n",
        "df = df.dropna()\n",
        "df.head()"
      ],
      "execution_count": null,
      "outputs": []
    },
    {
      "cell_type": "code",
      "metadata": {
        "id": "v-eHKbpXNstb"
      },
      "source": [
        "import string\n",
        "\n",
        "def get_keywords_eng(token):\n",
        "  result = []\n",
        "    \n",
        "  for text in token:\n",
        "    if (text in nlp_eng.Defaults.stop_words or text in string.punctuation):\n",
        "      continue\n",
        "    else:\n",
        "      result.append(text)\n",
        "\n",
        "  return result\n"
      ],
      "execution_count": 209,
      "outputs": []
    },
    {
      "cell_type": "code",
      "metadata": {
        "id": "wQhW2DGAYaHJ"
      },
      "source": [
        "results = []\n",
        "for content in df.content.values:\n",
        "    content = tokenizer.tokenize(content)\n",
        "    results.append([('#' + x[0]) for x in Counter(get_keywords_eng(content)).most_common(5)])\n",
        "\n",
        "\n",
        "df['keywords'] = results\n",
        "\n",
        "#Output to CSV\n",
        "#df.to_csv('dataset.csv')\n",
        "#files.download('dataset.csv')"
      ],
      "execution_count": 210,
      "outputs": []
    },
    {
      "cell_type": "code",
      "metadata": {
        "id": "ehRrD-UXgoq2"
      },
      "source": [
        "from wordcloud import WordCloud \n",
        "import matplotlib.pyplot as plt\n",
        "\n",
        "text = str(results)\n",
        "wordcloud = WordCloud(max_font_size=50, max_words=100, background_color=\"white\").generate(text)\n",
        "plt.figure()\n",
        "plt.imshow(wordcloud, interpolation=\"bilinear\")\n",
        "plt.axis(\"off\")\n",
        "plt.show()"
      ],
      "execution_count": null,
      "outputs": []
    }
  ]
}