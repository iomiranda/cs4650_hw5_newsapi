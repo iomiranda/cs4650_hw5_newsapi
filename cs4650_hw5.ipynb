{
  "nbformat": 4,
  "nbformat_minor": 0,
  "metadata": {
    "colab": {
      "name": "cs4650_hw5.ipynb",
      "provenance": [],
      "authorship_tag": "ABX9TyMqiC3LC7h8ZqmwryHLC4Uu",
      "include_colab_link": true
    },
    "kernelspec": {
      "name": "python3",
      "display_name": "Python 3"
    }
  },
  "cells": [
    {
      "cell_type": "markdown",
      "metadata": {
        "id": "view-in-github",
        "colab_type": "text"
      },
      "source": [
        "<a href=\"https://colab.research.google.com/github/iomiranda/cs4650_hw5_newsapi/blob/main/cs4650_hw5.ipynb\" target=\"_parent\"><img src=\"https://colab.research.google.com/assets/colab-badge.svg\" alt=\"Open In Colab\"/></a>"
      ]
    },
    {
      "cell_type": "code",
      "metadata": {
        "id": "6bRqLswZ1Fm-"
      },
      "source": [
        "!pip install spacy\n",
        "!pip install newsapi-python"
      ],
      "execution_count": null,
      "outputs": []
    },
    {
      "cell_type": "code",
      "metadata": {
        "id": "4f-OYRsx1XEK"
      },
      "source": [
        "!python -m spacy download en_core_web_lg"
      ],
      "execution_count": null,
      "outputs": []
    },
    {
      "cell_type": "code",
      "metadata": {
        "id": "VUskOYZk2Ls0"
      },
      "source": [
        "import spacy\n",
        "nlp_eng = spacy.load('en_core_web_lg')"
      ],
      "execution_count": 187,
      "outputs": []
    },
    {
      "cell_type": "code",
      "metadata": {
        "id": "rzVaO3Gt4RhW"
      },
      "source": [
        "newsapi = NewsApiClient (api_key='0322f891c020429591abd1c92da469c7')"
      ],
      "execution_count": 188,
      "outputs": []
    },
    {
      "cell_type": "code",
      "metadata": {
        "id": "DuBq9d7X87fo"
      },
      "source": [
        "articles = newsapi.get_everything(q='coronavirus', language='en', from_param='2021-02-20', to='2020-03-17', sort_by='relevancy', page=1)"
      ],
      "execution_count": 189,
      "outputs": []
    },
    {
      "cell_type": "code",
      "metadata": {
        "id": "JIxD31rb-ggU"
      },
      "source": [
        "import pickle\n",
        "filename = 'articlesCOVID.pckl'\n",
        "pickle.dump(articles, open(filename, 'wb'))\n",
        "loaded_model = pickle.load(open(filename, 'rb'))\n"
      ],
      "execution_count": 190,
      "outputs": []
    },
    {
      "cell_type": "code",
      "metadata": {
        "id": "ISqLVvmlGYyD"
      },
      "source": [
        "filepath = '/content/articlesCOVID.pckl'\n",
        "pickle.dump(loaded_model, open(filepath, 'wb'))"
      ],
      "execution_count": 191,
      "outputs": []
    },
    {
      "cell_type": "code",
      "metadata": {
        "id": "Fn4YH_-NHmD0"
      },
      "source": [
        "dados = []\n",
        "for i, article in enumerate(articles):\n",
        "  for x in articles.get('articles'):\n",
        "    title = x['title']\n",
        "    description = x['description']\n",
        "    content = x['content']\n",
        "    date = x['publishedAt']\n",
        "    dados.append({'title':title, 'date':date, 'desc':description, 'content':content})"
      ],
      "execution_count": 192,
      "outputs": []
    },
    {
      "cell_type": "code",
      "metadata": {
        "id": "CTglFo3MMf22"
      },
      "source": [
        "import pandas as pd\n",
        "df = pd.DataFrame(dados)\n",
        "df = df.dropna()\n",
        "df.head()"
      ],
      "execution_count": null,
      "outputs": []
    },
    {
      "cell_type": "code",
      "metadata": {
        "id": "v-eHKbpXNstb"
      },
      "source": [
        "import string\n",
        "\n",
        "def get_keywords_eng(token):\n",
        "  result = []\n",
        "    \n",
        "  for text in token:\n",
        "    if (text in nlp_eng.Defaults.stop_words or text in string.punctuation):\n",
        "      continue\n",
        "    else:\n",
        "      result.append(text)\n",
        "\n",
        "  return result\n"
      ],
      "execution_count": 194,
      "outputs": []
    },
    {
      "cell_type": "code",
      "metadata": {
        "colab": {
          "base_uri": "https://localhost:8080/",
          "height": 17
        },
        "id": "wQhW2DGAYaHJ",
        "outputId": "13398d8f-a4d1-417f-a410-dc6f05058ee3"
      },
      "source": [
        "results = []\n",
        "for content in df.content.values:\n",
        "    content = tokenizer.tokenize(content)\n",
        "    results.append([('#' + x[0]) for x in Counter(get_keywords_eng(content)).most_common(5)])\n",
        "\n",
        "\n",
        "df['keywords'] = results\n",
        "\n",
        "#Output to CSV\n",
        "#df.to_csv('dataset.csv')\n",
        "#files.download('dataset.csv')"
      ],
      "execution_count": 199,
      "outputs": [
        {
          "output_type": "display_data",
          "data": {
            "application/javascript": [
              "\n",
              "    async function download(id, filename, size) {\n",
              "      if (!google.colab.kernel.accessAllowed) {\n",
              "        return;\n",
              "      }\n",
              "      const div = document.createElement('div');\n",
              "      const label = document.createElement('label');\n",
              "      label.textContent = `Downloading \"${filename}\": `;\n",
              "      div.appendChild(label);\n",
              "      const progress = document.createElement('progress');\n",
              "      progress.max = size;\n",
              "      div.appendChild(progress);\n",
              "      document.body.appendChild(div);\n",
              "\n",
              "      const buffers = [];\n",
              "      let downloaded = 0;\n",
              "\n",
              "      const channel = await google.colab.kernel.comms.open(id);\n",
              "      // Send a message to notify the kernel that we're ready.\n",
              "      channel.send({})\n",
              "\n",
              "      for await (const message of channel.messages) {\n",
              "        // Send a message to notify the kernel that we're ready.\n",
              "        channel.send({})\n",
              "        if (message.buffers) {\n",
              "          for (const buffer of message.buffers) {\n",
              "            buffers.push(buffer);\n",
              "            downloaded += buffer.byteLength;\n",
              "            progress.value = downloaded;\n",
              "          }\n",
              "        }\n",
              "      }\n",
              "      const blob = new Blob(buffers, {type: 'application/binary'});\n",
              "      const a = document.createElement('a');\n",
              "      a.href = window.URL.createObjectURL(blob);\n",
              "      a.download = filename;\n",
              "      div.appendChild(a);\n",
              "      a.click();\n",
              "      div.remove();\n",
              "    }\n",
              "  "
            ],
            "text/plain": [
              "<IPython.core.display.Javascript object>"
            ]
          },
          "metadata": {
            "tags": []
          }
        },
        {
          "output_type": "display_data",
          "data": {
            "application/javascript": [
              "download(\"download_577b55d8-def1-4c1c-9ee7-0109900a868e\", \"dataset.csv\", 31188)"
            ],
            "text/plain": [
              "<IPython.core.display.Javascript object>"
            ]
          },
          "metadata": {
            "tags": []
          }
        }
      ]
    },
    {
      "cell_type": "code",
      "metadata": {
        "id": "ehRrD-UXgoq2"
      },
      "source": [
        "from wordcloud import WordCloud \n",
        "import matplotlib.pyplot as plt\n",
        "\n",
        "text = str(results)\n",
        "wordcloud = WordCloud(max_font_size=50, max_words=100, background_color=\"white\").generate(text)\n",
        "plt.figure()\n",
        "plt.imshow(wordcloud, interpolation=\"bilinear\")\n",
        "plt.axis(\"off\")\n",
        "plt.show()"
      ],
      "execution_count": null,
      "outputs": []
    }
  ]
}